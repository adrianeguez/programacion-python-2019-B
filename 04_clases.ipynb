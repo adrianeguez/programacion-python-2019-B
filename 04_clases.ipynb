{
 "cells": [
  {
   "cell_type": "code",
   "execution_count": 5,
   "metadata": {},
   "outputs": [
    {
     "name": "stdout",
     "output_type": "stream",
     "text": [
      "Direccion: 10 de Agosto\n",
      "10 de Agosto\n",
      "10 de Agosto\n",
      "Cayambe\n"
     ]
    }
   ],
   "source": [
    "# Clase\n",
    "class Escuela:\n",
    "    direccion = \"Ladron de Guevara\" # Publica\n",
    "    __extension_principal = 'Cayambe' # Privada\n",
    "    \n",
    "    def __init__(self,\n",
    "                direccion): # Constructor\n",
    "        if(direccion):\n",
    "            self.direccion = direccion\n",
    "        print(f\"Direccion: {self.direccion}\")\n",
    "    def imprimir(self):\n",
    "        print(self.direccion)\n",
    "        print(self.__extension_principal)\n",
    "\n",
    "instancia_epn = Escuela(\"10 de Agosto\")\n",
    "print(instancia_epn.direccion)\n",
    "instancia_epn.imprimir()"
   ]
  },
  {
   "cell_type": "code",
   "execution_count": null,
   "metadata": {},
   "outputs": [],
   "source": []
  }
 ],
 "metadata": {
  "kernelspec": {
   "display_name": "Python 3",
   "language": "python",
   "name": "python3"
  },
  "language_info": {
   "codemirror_mode": {
    "name": "ipython",
    "version": 3
   },
   "file_extension": ".py",
   "mimetype": "text/x-python",
   "name": "python",
   "nbconvert_exporter": "python",
   "pygments_lexer": "ipython3",
   "version": "3.7.1"
  }
 },
 "nbformat": 4,
 "nbformat_minor": 2
}
