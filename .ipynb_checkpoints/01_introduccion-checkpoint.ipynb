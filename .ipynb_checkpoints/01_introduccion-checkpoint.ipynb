{
 "cells": [
  {
   "cell_type": "markdown",
   "metadata": {},
   "source": [
    "# Titulo ( Introduccion)\n",
    "\n",
    "-  Variables\n",
    "-  Comentarios \n",
    "-  Codigo"
   ]
  },
  {
   "cell_type": "code",
   "execution_count": 1,
   "metadata": {},
   "outputs": [
    {
     "name": "stdout",
     "output_type": "stream",
     "text": [
      "Hola mundo\n"
     ]
    }
   ],
   "source": [
    "print(\"Hola mundo\")"
   ]
  },
  {
   "cell_type": "code",
   "execution_count": 3,
   "metadata": {},
   "outputs": [],
   "source": [
    "python = 1"
   ]
  },
  {
   "cell_type": "code",
   "execution_count": 4,
   "metadata": {},
   "outputs": [
    {
     "name": "stdout",
     "output_type": "stream",
     "text": [
      "1\n"
     ]
    }
   ],
   "source": [
    "print(python)"
   ]
  },
  {
   "cell_type": "code",
   "execution_count": 6,
   "metadata": {},
   "outputs": [],
   "source": [
    "entero = 2\n",
    "decimal = 12.21\n",
    "texto = \"Adrian\"  # Este es otro comentario\n",
    "# Este es un comentario\n",
    "\"\"\"\n",
    "alsdkañsdkasd asdalsdkñlaskd \n",
    "MAS Y MAs COMENTARIOS\n",
    "\"\"\"\n",
    "docente = True\n",
    "casado = False\n",
    "vacio = None\n"
   ]
  },
  {
   "cell_type": "code",
   "execution_count": 10,
   "metadata": {},
   "outputs": [
    {
     "name": "stdout",
     "output_type": "stream",
     "text": [
      "<class 'int'>\n",
      "<class 'float'>\n",
      "<class 'str'>\n",
      "<class 'bool'>\n",
      "<class 'bool'>\n",
      "<class 'NoneType'>\n",
      "<class 'builtin_function_or_method'>\n"
     ]
    }
   ],
   "source": [
    "#  variableCamelCase\n",
    "#  variable_camel_case\n",
    "variable_poderosa = 1\n",
    "print(type(variable_poderosa))\n",
    "variable_poderosa = 1.12\n",
    "print(type(variable_poderosa))\n",
    "variable_poderosa = \"Texto\"\n",
    "print(type(variable_poderosa))\n",
    "variable_poderosa = False\n",
    "print(type(variable_poderosa))\n",
    "variable_poderosa = True\n",
    "print(type(variable_poderosa))\n",
    "variable_poderosa = None\n",
    "print(type(variable_poderosa))\n",
    "variable_poderosa = print\n",
    "print(type(variable_poderosa))"
   ]
  },
  {
   "cell_type": "code",
   "execution_count": 15,
   "metadata": {},
   "outputs": [
    {
     "name": "stdout",
     "output_type": "stream",
     "text": [
      "Esta casado\n"
     ]
    }
   ],
   "source": [
    "casado = True\n",
    "if(casado):\n",
    "    print(\"Esta casado\")\n",
    "else:\n",
    "    print(\"No esta casado\")"
   ]
  },
  {
   "cell_type": "code",
   "execution_count": 25,
   "metadata": {},
   "outputs": [
    {
     "name": "stdout",
     "output_type": "stream",
     "text": [
      "Falsy\n"
     ]
    }
   ],
   "source": [
    "variable = print\n",
    "if(variable):\n",
    "    print(\"Truthy\")\n",
    "else:\n",
    "    print(\"Falsy\")\n",
    "\n",
    "#  Truthy -> True\n",
    "#  -1, 1, -1.1, 1.1 \"Nombre\" \"0\"\n",
    "#  Falsy -> False\n",
    "#  0 \"\" None"
   ]
  },
  {
   "cell_type": "code",
   "execution_count": null,
   "metadata": {},
   "outputs": [],
   "source": []
  },
  {
   "cell_type": "code",
   "execution_count": null,
   "metadata": {},
   "outputs": [],
   "source": []
  },
  {
   "cell_type": "code",
   "execution_count": null,
   "metadata": {},
   "outputs": [],
   "source": []
  },
  {
   "cell_type": "code",
   "execution_count": null,
   "metadata": {},
   "outputs": [],
   "source": []
  },
  {
   "cell_type": "code",
   "execution_count": null,
   "metadata": {},
   "outputs": [],
   "source": []
  },
  {
   "cell_type": "code",
   "execution_count": null,
   "metadata": {},
   "outputs": [],
   "source": []
  },
  {
   "cell_type": "code",
   "execution_count": null,
   "metadata": {},
   "outputs": [],
   "source": []
  }
 ],
 "metadata": {
  "kernelspec": {
   "display_name": "Python 3",
   "language": "python",
   "name": "python3"
  },
  "language_info": {
   "codemirror_mode": {
    "name": "ipython",
    "version": 3
   },
   "file_extension": ".py",
   "mimetype": "text/x-python",
   "name": "python",
   "nbconvert_exporter": "python",
   "pygments_lexer": "ipython3",
   "version": "3.7.1"
  }
 },
 "nbformat": 4,
 "nbformat_minor": 2
}
