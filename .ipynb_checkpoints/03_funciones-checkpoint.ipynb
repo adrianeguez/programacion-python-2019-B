{
 "cells": [
  {
   "cell_type": "code",
   "execution_count": 1,
   "metadata": {},
   "outputs": [
    {
     "name": "stdout",
     "output_type": "stream",
     "text": [
      "Hola mundo 2\n"
     ]
    }
   ],
   "source": [
    "# Funciones\n",
    "def buscar_error():\n",
    "    print(\"Hola mundo 2\")\n",
    "\n",
    "buscar_error()"
   ]
  },
  {
   "cell_type": "code",
   "execution_count": 3,
   "metadata": {},
   "outputs": [
    {
     "name": "stdout",
     "output_type": "stream",
     "text": [
      "Hola mundo Adrian\n"
     ]
    }
   ],
   "source": [
    "# Funciones\n",
    "def buscar_error(nombre):\n",
    "    print(f\"Hola mundo {nombre}\")\n",
    "\n",
    "buscar_error(\"Adrian\")"
   ]
  },
  {
   "cell_type": "code",
   "execution_count": 7,
   "metadata": {},
   "outputs": [
    {
     "name": "stdout",
     "output_type": "stream",
     "text": [
      "Hola mundo Adrian\n",
      "0\n"
     ]
    }
   ],
   "source": [
    "# Funciones\n",
    "def buscar_error(nombre):\n",
    "    print(f\"Hola mundo {nombre}\")\n",
    "    try:\n",
    "        # 1/0\n",
    "        return 0\n",
    "    except:\n",
    "        return 1\n",
    "\n",
    "respuesta = buscar_error(\"Adrian\")\n",
    "print(respuesta)"
   ]
  },
  {
   "cell_type": "code",
   "execution_count": 8,
   "metadata": {},
   "outputs": [],
   "source": [
    "def imprimir_nombre(universidad = \"EPN\"):\n",
    "    print(universidad)"
   ]
  },
  {
   "cell_type": "code",
   "execution_count": 10,
   "metadata": {},
   "outputs": [
    {
     "name": "stdout",
     "output_type": "stream",
     "text": [
      "EPN\n"
     ]
    }
   ],
   "source": [
    "imprimir_nombre()"
   ]
  },
  {
   "cell_type": "code",
   "execution_count": 12,
   "metadata": {},
   "outputs": [],
   "source": [
    "def imprimir_carro(color,\n",
    "                  placa,\n",
    "                  anio,\n",
    "                  caballos):\n",
    "    print(color)\n",
    "    print(placa)\n",
    "    print(anio)\n",
    "    print(caballos)"
   ]
  },
  {
   "cell_type": "code",
   "execution_count": 13,
   "metadata": {},
   "outputs": [
    {
     "name": "stdout",
     "output_type": "stream",
     "text": [
      "blanco\n",
      "pik-123\n",
      "2012\n",
      "15\n"
     ]
    }
   ],
   "source": [
    "imprimir_carro(\"blanco\",\"pik-123\",\"2012\",\"15\")"
   ]
  },
  {
   "cell_type": "code",
   "execution_count": 14,
   "metadata": {},
   "outputs": [
    {
     "name": "stdout",
     "output_type": "stream",
     "text": [
      "negro\n",
      "asd-123\n",
      "2017\n",
      "15\n"
     ]
    }
   ],
   "source": [
    "#  Parametros Nombrados (Named Parameters)\n",
    "imprimir_carro(caballos=\"15\",\n",
    "              color=\"negro\",\n",
    "              anio=\"2017\",\n",
    "              placa=\"asd-123\")"
   ]
  },
  {
   "cell_type": "code",
   "execution_count": 15,
   "metadata": {},
   "outputs": [
    {
     "name": "stdout",
     "output_type": "stream",
     "text": [
      "9\n"
     ]
    }
   ],
   "source": [
    "def suma(numero_uno, numero_dos):\n",
    "    return numero_uno + numero_dos\n",
    "\n",
    "print(suma(3,6))"
   ]
  },
  {
   "cell_type": "code",
   "execution_count": 23,
   "metadata": {},
   "outputs": [
    {
     "name": "stdout",
     "output_type": "stream",
     "text": [
      "20\n"
     ]
    }
   ],
   "source": [
    "# Parametros infinitos\n",
    "def suma_infinitos_numeros(*numeros,\n",
    "                           total_suma):\n",
    "    for numero in numeros:\n",
    "        total_suma = total_suma + numero\n",
    "    return total_suma\n",
    "print(suma_infinitos_numeros(1,2,3,4,\n",
    "                            total_suma=10))"
   ]
  },
  {
   "cell_type": "code",
   "execution_count": 27,
   "metadata": {},
   "outputs": [
    {
     "name": "stdout",
     "output_type": "stream",
     "text": [
      "<class 'dict'>\n",
      "nombre\n",
      "apellido\n",
      "Adrian\n",
      "Eguez\n",
      "Libreria\n"
     ]
    }
   ],
   "source": [
    "# Key Word Arguments (kwarguments) (kwargs)\n",
    "def libreria(**argumentos):\n",
    "    print(type(argumentos))\n",
    "    for llave in argumentos.keys():\n",
    "        print(llave)\n",
    "    for valor in argumentos.values():\n",
    "        print(valor)\n",
    "    print(\"Libreria\")\n",
    "libreria(nombre=\"Adrian\",apellido=\"Eguez\")"
   ]
  },
  {
   "cell_type": "code",
   "execution_count": 34,
   "metadata": {},
   "outputs": [
    {
     "name": "stdout",
     "output_type": "stream",
     "text": [
      "4\n"
     ]
    }
   ],
   "source": [
    "def calculadora(num_uno, num_dos):\n",
    "    def suma():\n",
    "        return num_uno + num_dos\n",
    "    def resta():\n",
    "        return num_uno - num_dos\n",
    "    return suma()\n",
    "    \n",
    "print(calculadora(2,2))"
   ]
  },
  {
   "cell_type": "code",
   "execution_count": null,
   "metadata": {},
   "outputs": [],
   "source": []
  },
  {
   "cell_type": "code",
   "execution_count": null,
   "metadata": {},
   "outputs": [],
   "source": []
  },
  {
   "cell_type": "code",
   "execution_count": null,
   "metadata": {},
   "outputs": [],
   "source": []
  },
  {
   "cell_type": "code",
   "execution_count": null,
   "metadata": {},
   "outputs": [],
   "source": []
  }
 ],
 "metadata": {
  "kernelspec": {
   "display_name": "Python 3",
   "language": "python",
   "name": "python3"
  },
  "language_info": {
   "codemirror_mode": {
    "name": "ipython",
    "version": 3
   },
   "file_extension": ".py",
   "mimetype": "text/x-python",
   "name": "python",
   "nbconvert_exporter": "python",
   "pygments_lexer": "ipython3",
   "version": "3.7.1"
  }
 },
 "nbformat": 4,
 "nbformat_minor": 2
}
